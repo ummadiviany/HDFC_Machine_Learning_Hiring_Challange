{
 "cells": [
  {
   "cell_type": "code",
   "execution_count": 85,
   "metadata": {},
   "outputs": [],
   "source": [
    "from keras.models import Sequential\n",
    "from keras.layers import Dense,Flatten\n",
    "from sklearn.model_selection import train_test_split\n",
    "from sklearn.model_selection import StratifiedShuffleSplit\n",
    "from sklearn.metrics import confusion_matrix"
   ]
  },
  {
   "cell_type": "code",
   "execution_count": 5,
   "metadata": {},
   "outputs": [
    {
     "name": "stderr",
     "output_type": "stream",
     "text": [
      "/home/vinay/anaconda3/envs/tensor/lib/python3.7/site-packages/IPython/core/interactiveshell.py:3058: DtypeWarning: Columns (746,835) have mixed types. Specify dtype option on import or set low_memory=False.\n",
      "  interactivity=interactivity, compiler=compiler, result=result)\n",
      "/home/vinay/anaconda3/envs/tensor/lib/python3.7/site-packages/IPython/core/interactiveshell.py:3058: DtypeWarning: Columns (700,731,740,752,761,789,811,820,829,841,850) have mixed types. Specify dtype option on import or set low_memory=False.\n",
      "  interactivity=interactivity, compiler=compiler, result=result)\n"
     ]
    },
    {
     "name": "stdout",
     "output_type": "stream",
     "text": [
      "(17521, 2380) (17521,)\n"
     ]
    }
   ],
   "source": [
    "import numpy as np\n",
    "import pandas as pd\n",
    "import matplotlib.pyplot as plt\n",
    "train=pd.read_csv('/home/vinay/Downloads/HDFC_ML/DataSet/Train.csv')\n",
    "test=pd.read_csv('/home/vinay/Downloads/HDFC_ML/DataSet/Test.csv')\n",
    "trainobjects = train.select_dtypes(include=[object])\n",
    "testobjects = test.select_dtypes(include=[object])\n",
    "rcolumns=trainobjects+testobjects\n",
    "y=train['Col2']\n",
    "train=train.drop(columns=rcolumns.columns)\n",
    "train.drop('Col2', axis=1, inplace=True)\n",
    "x=train\n",
    "x.fillna(0, inplace=True)\n",
    "print(x.shape,y.shape)"
   ]
  },
  {
   "cell_type": "code",
   "execution_count": 25,
   "metadata": {},
   "outputs": [],
   "source": [
    "testid=test['Col1']\n",
    "test=test.drop(columns=rcolumns.columns)\n",
    "test.fillna(0, inplace=True)"
   ]
  },
  {
   "cell_type": "code",
   "execution_count": 63,
   "metadata": {},
   "outputs": [],
   "source": [
    "x_train, x_test, y_train, y_test = train_test_split(x, y, test_size=0.3,stratify=y) # 70% training and 30% test"
   ]
  },
  {
   "cell_type": "code",
   "execution_count": 64,
   "metadata": {},
   "outputs": [
    {
     "name": "stdout",
     "output_type": "stream",
     "text": [
      "Zeros  : 4729\n",
      "Ones   : 528\n"
     ]
    }
   ],
   "source": [
    "zero=one=0\n",
    "for val in y_test:\n",
    "    if val==0:\n",
    "        zero+=1\n",
    "    else:\n",
    "        one+=1\n",
    "print(\"Zeros  :\",zero)\n",
    "print(\"Ones   :\",one)"
   ]
  },
  {
   "cell_type": "code",
   "execution_count": 65,
   "metadata": {},
   "outputs": [
    {
     "name": "stdout",
     "output_type": "stream",
     "text": [
      "2380\n"
     ]
    }
   ],
   "source": [
    "input_shape=x_train.shape[1]\n",
    "print(input_shape)"
   ]
  },
  {
   "cell_type": "code",
   "execution_count": 74,
   "metadata": {},
   "outputs": [],
   "source": [
    "model=Sequential()\n",
    "model.add(Dense(1000,input_shape=(input_shape,),activation='relu'))\n",
    "model.add(Dense(500,activation='relu'))\n",
    "model.add(Dense(100,activation='relu'))\n",
    "model.add(Dense(50,activation='relu'))\n",
    "model.add(Dense(1,activation='sigmoid'))"
   ]
  },
  {
   "cell_type": "code",
   "execution_count": 75,
   "metadata": {},
   "outputs": [
    {
     "name": "stdout",
     "output_type": "stream",
     "text": [
      "Model: \"sequential_7\"\n",
      "_________________________________________________________________\n",
      "Layer (type)                 Output Shape              Param #   \n",
      "=================================================================\n",
      "dense_24 (Dense)             (None, 1000)              2381000   \n",
      "_________________________________________________________________\n",
      "dense_25 (Dense)             (None, 500)               500500    \n",
      "_________________________________________________________________\n",
      "dense_26 (Dense)             (None, 100)               50100     \n",
      "_________________________________________________________________\n",
      "dense_27 (Dense)             (None, 50)                5050      \n",
      "_________________________________________________________________\n",
      "dense_28 (Dense)             (None, 1)                 51        \n",
      "=================================================================\n",
      "Total params: 2,936,701\n",
      "Trainable params: 2,936,701\n",
      "Non-trainable params: 0\n",
      "_________________________________________________________________\n"
     ]
    }
   ],
   "source": [
    "model.summary()"
   ]
  },
  {
   "cell_type": "code",
   "execution_count": 76,
   "metadata": {},
   "outputs": [],
   "source": [
    "model.compile(optimizer='adam',loss='binary_crossentropy',metrics=['accuracy'])"
   ]
  },
  {
   "cell_type": "code",
   "execution_count": 77,
   "metadata": {},
   "outputs": [
    {
     "name": "stdout",
     "output_type": "stream",
     "text": [
      "Train on 12264 samples, validate on 5257 samples\n",
      "Epoch 1/10\n",
      "12264/12264 [==============================] - 18s 1ms/step - loss: 1.5128 - acc: 0.8992 - val_loss: 1.5439 - val_acc: 0.8996\n",
      "Epoch 2/10\n",
      "12264/12264 [==============================] - 17s 1ms/step - loss: 1.5114 - acc: 0.8994 - val_loss: 1.5436 - val_acc: 0.8996\n",
      "Epoch 3/10\n",
      "12264/12264 [==============================] - 17s 1ms/step - loss: 1.5108 - acc: 0.8994 - val_loss: 1.5379 - val_acc: 0.8998\n",
      "Epoch 4/10\n",
      "12264/12264 [==============================] - 17s 1ms/step - loss: 1.5108 - acc: 0.8995 - val_loss: 1.5399 - val_acc: 0.8996\n",
      "Epoch 5/10\n",
      "12264/12264 [==============================] - 17s 1ms/step - loss: 1.5105 - acc: 0.8995 - val_loss: 1.5424 - val_acc: 0.8996\n",
      "Epoch 6/10\n",
      "12264/12264 [==============================] - 17s 1ms/step - loss: 1.5119 - acc: 0.8995 - val_loss: 1.5489 - val_acc: 0.8992\n",
      "Epoch 7/10\n",
      "12264/12264 [==============================] - 17s 1ms/step - loss: 1.5120 - acc: 0.8995 - val_loss: 1.5461 - val_acc: 0.8992\n",
      "Epoch 8/10\n",
      "12264/12264 [==============================] - 18s 1ms/step - loss: 1.5099 - acc: 0.8995 - val_loss: 1.5474 - val_acc: 0.8992\n",
      "Epoch 9/10\n",
      "12264/12264 [==============================] - 18s 1ms/step - loss: 1.5120 - acc: 0.8995 - val_loss: 1.5466 - val_acc: 0.8990\n",
      "Epoch 10/10\n",
      "12264/12264 [==============================] - 18s 1ms/step - loss: 1.5114 - acc: 0.8995 - val_loss: 1.5398 - val_acc: 0.8996\n"
     ]
    }
   ],
   "source": [
    "history=model.fit(x_train,y_train,epochs=5,validation_data=(x_test,y_test))"
   ]
  },
  {
   "cell_type": "code",
   "execution_count": 86,
   "metadata": {},
   "outputs": [
    {
     "name": "stdout",
     "output_type": "stream",
     "text": [
      "5257/5257 [==============================] - 1s 220us/step\n",
      "[1.5397542655275183, 0.89956248811109]\n",
      "[[4729    0]\n",
      " [ 528    0]]\n"
     ]
    }
   ],
   "source": [
    "print(model.evaluate(x_test,y_test))\n",
    "y_pred=model.predict(x_test)\n",
    "y_pred =(y_pred>0.5)\n",
    "print(confusion_matrix(y_test, y_pred))"
   ]
  },
  {
   "cell_type": "code",
   "execution_count": 78,
   "metadata": {},
   "outputs": [],
   "source": [
    "result = model.predict(test)"
   ]
  },
  {
   "cell_type": "code",
   "execution_count": 82,
   "metadata": {},
   "outputs": [
    {
     "name": "stdout",
     "output_type": "stream",
     "text": [
      "[0. 0. 0. 0. 0.]\n"
     ]
    }
   ],
   "source": [
    "#result=np.ndarray([result].astype(object))\n",
    "result=np.round(result)\n",
    "result=result.ravel()\n",
    "print(result[:5])"
   ]
  },
  {
   "cell_type": "code",
   "execution_count": 83,
   "metadata": {},
   "outputs": [
    {
     "name": "stdout",
     "output_type": "stream",
     "text": [
      "[['RIGD58ZWD' 0.0]\n",
      " ['RIH660YDS' 0.0]\n",
      " ['RIH660Q96' 0.0]\n",
      " ['RIYDO15W1' 0.0]\n",
      " ['RIYBGC1ZD' 0.0]]\n"
     ]
    }
   ],
   "source": [
    "predictions=np.asarray([testid,result])\n",
    "predictions=predictions.T\n",
    "print(predictions[:5])\n",
    "pd.DataFrame(predictions,columns=['Col1','Col2']).to_csv(\"/home/vinay/Downloads/HDFC_ML/DataSet/Predictionsk1.csv\")"
   ]
  },
  {
   "cell_type": "code",
   "execution_count": null,
   "metadata": {},
   "outputs": [],
   "source": []
  }
 ],
 "metadata": {
  "kernelspec": {
   "display_name": "Python 3",
   "language": "python",
   "name": "python3"
  },
  "language_info": {
   "codemirror_mode": {
    "name": "ipython",
    "version": 3
   },
   "file_extension": ".py",
   "mimetype": "text/x-python",
   "name": "python",
   "nbconvert_exporter": "python",
   "pygments_lexer": "ipython3",
   "version": "3.7.3"
  }
 },
 "nbformat": 4,
 "nbformat_minor": 2
}
