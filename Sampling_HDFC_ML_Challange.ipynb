{
 "cells": [
  {
   "cell_type": "code",
   "execution_count": 305,
   "metadata": {},
   "outputs": [],
   "source": [
    "from sklearn.utils import resample\n",
    "import numpy as np\n",
    "import pandas as pd\n",
    "import matplotlib.pyplot as plt\n",
    "from sklearn.ensemble import RandomForestClassifier\n",
    "from sklearn.metrics import roc_auc_score\n",
    "from sklearn.model_selection import train_test_split\n",
    "from sklearn.metrics import accuracy_score\n",
    "from sklearn.metrics import precision_recall_fscore_support\n",
    "from sklearn.metrics import classification_report\n",
    "from sklearn.metrics import confusion_matrix\n",
    "from sklearn.model_selection import GridSearchCV\n",
    "from sklearn.model_selection import RandomizedSearchCV\n",
    "from sklearn.svm import SVC\n",
    "from sklearn.metrics import roc_curve, auc\n",
    "from sklearn.preprocessing import StandardScaler"
   ]
  },
  {
   "cell_type": "code",
   "execution_count": 319,
   "metadata": {
    "scrolled": false
   },
   "outputs": [
    {
     "name": "stderr",
     "output_type": "stream",
     "text": [
      "/home/vinay/anaconda3/envs/tensor/lib/python3.7/site-packages/IPython/core/interactiveshell.py:3058: DtypeWarning: Columns (746,835) have mixed types. Specify dtype option on import or set low_memory=False.\n",
      "  interactivity=interactivity, compiler=compiler, result=result)\n",
      "/home/vinay/anaconda3/envs/tensor/lib/python3.7/site-packages/IPython/core/interactiveshell.py:3058: DtypeWarning: Columns (700,731,740,752,761,789,811,820,829,841,850) have mixed types. Specify dtype option on import or set low_memory=False.\n",
      "  interactivity=interactivity, compiler=compiler, result=result)\n"
     ]
    }
   ],
   "source": [
    "train=pd.read_csv('/home/vinay/Downloads/HDFC_ML/DataSet/Train.csv')\n",
    "test=pd.read_csv('/home/vinay/Downloads/HDFC_ML/DataSet/Test.csv')"
   ]
  },
  {
   "cell_type": "code",
   "execution_count": 320,
   "metadata": {},
   "outputs": [],
   "source": [
    "trainobjects = train.select_dtypes(include=[object])\n",
    "testobjects = test.select_dtypes(include=[object])\n",
    "rcolumns=trainobjects+testobjects\n",
    "#y=train['Col2']\n",
    "train=train.drop(columns=rcolumns.columns)\n",
    "#x=train\n",
    "train.fillna(0, inplace=True)"
   ]
  },
  {
   "cell_type": "code",
   "execution_count": 321,
   "metadata": {
    "scrolled": true
   },
   "outputs": [
    {
     "data": {
      "text/plain": [
       "0    15760\n",
       "1     1761\n",
       "Name: Col2, dtype: int64"
      ]
     },
     "execution_count": 321,
     "metadata": {},
     "output_type": "execute_result"
    }
   ],
   "source": [
    "train.Col2.value_counts()"
   ]
  },
  {
   "cell_type": "code",
   "execution_count": 322,
   "metadata": {},
   "outputs": [],
   "source": [
    "testid=test['Col1']\n",
    "test=test.drop(columns=rcolumns.columns)\n",
    "test.fillna(0, inplace=True)"
   ]
  },
  {
   "cell_type": "code",
   "execution_count": 323,
   "metadata": {},
   "outputs": [
    {
     "data": {
      "text/plain": [
       "0    4000\n",
       "1    1761\n",
       "Name: Col2, dtype: int64"
      ]
     },
     "execution_count": 323,
     "metadata": {},
     "output_type": "execute_result"
    }
   ],
   "source": [
    "train_majority = train[train.Col2==0]\n",
    "train_minority = train[train.Col2==1]\n",
    " \n",
    "# Upsample minority class\n",
    "train_minority_upsampled = resample(train_majority, \n",
    "                                 replace=False,     # sample with replacement\n",
    "                                 n_samples=4000,    # to match majority class\n",
    "                                 random_state=123) # reproducible results\n",
    " \n",
    "# Combine majority class with upsampled minority class\n",
    "train_upsampled = pd.concat([train_minority, train_minority_upsampled])\n",
    " \n",
    "# Display new class counts\n",
    "train_upsampled.Col2.value_counts()"
   ]
  },
  {
   "cell_type": "code",
   "execution_count": 324,
   "metadata": {},
   "outputs": [],
   "source": [
    "y=train_upsampled['Col2']\n",
    "train_upsampled.drop('Col2', axis=1, inplace=True)\n",
    "x=train_upsampled"
   ]
  },
  {
   "cell_type": "code",
   "execution_count": 325,
   "metadata": {},
   "outputs": [],
   "source": [
    "x_train, x_test, y_train, y_test = train_test_split(x, y, test_size=0.25,stratify=y) # 70% training and 30% test"
   ]
  },
  {
   "cell_type": "code",
   "execution_count": 235,
   "metadata": {},
   "outputs": [
    {
     "name": "stderr",
     "output_type": "stream",
     "text": [
      "/home/vinay/anaconda3/envs/tensor/lib/python3.7/site-packages/sklearn/model_selection/_split.py:1978: FutureWarning: The default value of cv will change from 3 to 5 in version 0.22. Specify it explicitly to silence this warning.\n",
      "  warnings.warn(CV_WARNING, FutureWarning)\n",
      "[Parallel(n_jobs=-1)]: Using backend LokyBackend with 4 concurrent workers.\n"
     ]
    },
    {
     "name": "stdout",
     "output_type": "stream",
     "text": [
      "Fitting 3 folds for each of 39 candidates, totalling 117 fits\n"
     ]
    },
    {
     "name": "stderr",
     "output_type": "stream",
     "text": [
      "[Parallel(n_jobs=-1)]: Done   5 tasks      | elapsed:   28.6s\n",
      "[Parallel(n_jobs=-1)]: Done  10 tasks      | elapsed:   38.3s\n",
      "[Parallel(n_jobs=-1)]: Done  17 tasks      | elapsed:  1.1min\n",
      "[Parallel(n_jobs=-1)]: Done  24 tasks      | elapsed:  1.6min\n",
      "[Parallel(n_jobs=-1)]: Done  33 tasks      | elapsed:  2.7min\n",
      "[Parallel(n_jobs=-1)]: Done  42 tasks      | elapsed:  3.9min\n",
      "[Parallel(n_jobs=-1)]: Done  53 tasks      | elapsed:  5.5min\n",
      "[Parallel(n_jobs=-1)]: Done  64 tasks      | elapsed:  7.5min\n",
      "[Parallel(n_jobs=-1)]: Done  77 tasks      | elapsed:  9.8min\n",
      "[Parallel(n_jobs=-1)]: Done  90 tasks      | elapsed: 12.0min\n",
      "[Parallel(n_jobs=-1)]: Done 105 tasks      | elapsed: 14.8min\n",
      "[Parallel(n_jobs=-1)]: Done 117 out of 117 | elapsed: 16.7min finished\n"
     ]
    },
    {
     "name": "stdout",
     "output_type": "stream",
     "text": [
      "{'max_depth': 4, 'n_estimators': 300}\n",
      "0.5992733290597542\n"
     ]
    }
   ],
   "source": [
    "param_grid = {'n_estimators': [300],'max_depth': np.arange(1,40)\n",
    "             }\n",
    "clf=RandomForestClassifier(n_jobs=-1)\n",
    "#clf=SVC(kernel='linear', class_weight='balanced', probability=True)\n",
    "#clf.fit(x_train,y_train)\n",
    "cv = GridSearchCV(clf, param_grid,n_jobs=-1,scoring='roc_auc',verbose=10)\n",
    "cv.fit(x, y)\n",
    "print(cv.best_params_)\n",
    "print(cv.best_score_)"
   ]
  },
  {
   "cell_type": "code",
   "execution_count": 326,
   "metadata": {},
   "outputs": [],
   "source": [
    "x_train = StandardScaler().fit_transform(x_train)\n",
    "x_test = StandardScaler().fit_transform(x_test)\n",
    "x = StandardScaler().fit_transform(x)"
   ]
  },
  {
   "cell_type": "code",
   "execution_count": 327,
   "metadata": {},
   "outputs": [],
   "source": [
    "#y_pred=clf.predict(x_test)\n",
    "clf1=RandomForestClassifier(n_jobs=-1,n_estimators=300,max_depth=15,criterion='entropy')\n",
    "clf1.fit(x_train,y_train)\n",
    "y_pred=clf1.predict(x_test)"
   ]
  },
  {
   "cell_type": "code",
   "execution_count": 328,
   "metadata": {
    "scrolled": true
   },
   "outputs": [
    {
     "name": "stdout",
     "output_type": "stream",
     "text": [
      "Accuracy: 0.7279666897987509\n",
      "(0.702739650818052, 0.5838411588411588, 0.576925611911681, None)\n",
      "              precision    recall  f1-score   support\n",
      "\n",
      "           0       0.73      0.95      0.83      1001\n",
      "           1       0.67      0.21      0.32       440\n",
      "\n",
      "    accuracy                           0.73      1441\n",
      "   macro avg       0.70      0.58      0.58      1441\n",
      "weighted avg       0.71      0.73      0.68      1441\n",
      "\n",
      "[[955  46]\n",
      " [346  94]]\n",
      "0.5838411588411588\n"
     ]
    }
   ],
   "source": [
    "print(\"Accuracy:\",accuracy_score(y_test, y_pred))\n",
    "print(precision_recall_fscore_support(y_test,y_pred,average='macro'))\n",
    "print(classification_report(y_test,y_pred))\n",
    "print(confusion_matrix(y_test,y_pred))\n",
    "false_positive_rate, true_positive_rate, thresholds = roc_curve(y_test, y_pred)\n",
    "print(auc(false_positive_rate, true_positive_rate))"
   ]
  },
  {
   "cell_type": "code",
   "execution_count": 329,
   "metadata": {},
   "outputs": [
    {
     "name": "stdout",
     "output_type": "stream",
     "text": [
      "0.7109594950504042\n"
     ]
    }
   ],
   "source": [
    "y_pred_prob=clf1.predict_proba(x_test)\n",
    "y_prob = [p[1] for p in y_pred_prob]\n",
    "print( roc_auc_score(y_test, y_prob))"
   ]
  },
  {
   "cell_type": "code",
   "execution_count": 330,
   "metadata": {},
   "outputs": [],
   "source": [
    "result=clf1.predict(test)"
   ]
  },
  {
   "cell_type": "code",
   "execution_count": 331,
   "metadata": {},
   "outputs": [],
   "source": [
    "#zero=one=0\n",
    "#for val in result:\n",
    "#    if val==0:\n",
    "#        zero+=1\n",
    "#    else:\n",
    "#        one+=1\n",
    "#print(\"Zeros  :\",zero)\n",
    "#print(\"Ones   :\",one)"
   ]
  },
  {
   "cell_type": "code",
   "execution_count": 332,
   "metadata": {},
   "outputs": [
    {
     "name": "stdout",
     "output_type": "stream",
     "text": [
      "[[    0 16615]\n",
      " [    1  3827]]\n"
     ]
    }
   ],
   "source": [
    "unique, counts = np.unique(result, return_counts=True)\n",
    "print (np.asarray((unique, counts)).T)"
   ]
  },
  {
   "cell_type": "code",
   "execution_count": 261,
   "metadata": {},
   "outputs": [],
   "source": [
    "predictions=np.asarray([testid,result])\n",
    "predictions=predictions.T\n",
    "df=pd.DataFrame(predictions,columns=['Col1','Col2'])\n",
    "df.to_csv(\"/home/vinay/Downloads/HDFC_ML/DataSet/Predictionsfullset8.csv\",index=False)"
   ]
  },
  {
   "cell_type": "code",
   "execution_count": null,
   "metadata": {},
   "outputs": [],
   "source": [
    "tune more the random forest\n",
    "smote \n",
    "naive bayes \n",
    "xgboost\n",
    "    auc thresold\n",
    "svm\n",
    "    classweights\n",
    "50"
   ]
  },
  {
   "cell_type": "code",
   "execution_count": 301,
   "metadata": {
    "scrolled": true
   },
   "outputs": [
    {
     "name": "stdout",
     "output_type": "stream",
     "text": [
      "Iteration: 1\n",
      "[[1591    0]\n",
      " [ 295  233]]\n",
      "[[    0 19642]\n",
      " [    1   800]]\n",
      "Iteration: 2\n",
      "[[1591    0]\n",
      " [ 246  282]]\n",
      "[[    0 19614]\n",
      " [    1   828]]\n",
      "Iteration: 3\n",
      "[[1591    0]\n",
      " [ 209  319]]\n",
      "[[    0 19610]\n",
      " [    1   832]]\n",
      "Iteration: 4\n",
      "[[1591    0]\n",
      " [ 156  372]]\n",
      "[[    0 19569]\n",
      " [    1   873]]\n",
      "Iteration: 5\n",
      "[[1591    0]\n",
      " [ 116  412]]\n",
      "[[    0 19532]\n",
      " [    1   910]]\n",
      "Iteration: 6\n",
      "[[1591    0]\n",
      " [  78  450]]\n",
      "[[    0 19541]\n",
      " [    1   901]]\n",
      "Iteration: 7\n",
      "[[1591    0]\n",
      " [  60  468]]\n",
      "[[    0 19510]\n",
      " [    1   932]]\n",
      "Iteration: 8\n",
      "[[1591    0]\n",
      " [  52  476]]\n",
      "[[    0 19490]\n",
      " [    1   952]]\n",
      "Iteration: 9\n",
      "[[1591    0]\n",
      " [  45  483]]\n",
      "[[    0 19469]\n",
      " [    1   973]]\n",
      "Iteration: 10\n",
      "[[1591    0]\n",
      " [  42  486]]\n",
      "[[    0 19508]\n",
      " [    1   934]]\n"
     ]
    }
   ],
   "source": [
    "falsepos=list()\n",
    "aucscore=list()\n",
    "rocaucscore=list()\n",
    "test1counts=list()\n",
    "maxdepth=list(range(10,20))\n",
    "i=1\n",
    "for val in maxdepth:\n",
    "    clf1=RandomForestClassifier(n_jobs=-1,n_estimators=300,max_depth=val,criterion='entropy')\n",
    "    clf1.fit(x,y)\n",
    "    y_pred=clf1.predict(x_test)\n",
    "    #print(\"Accuracy:\",accuracy_score(y_test, y_pred))\n",
    "    #print(precision_recall_fscore_support(y_test,y_pred,average='macro'))\n",
    "    #print(classification_report(y_test,y_pred))\n",
    "    print(\"Iteration:\",i)\n",
    "    i+=1\n",
    "    print(confusion_matrix(y_test,y_pred))\n",
    "    false_positive_rate, true_positive_rate, thresholds = roc_curve(y_test, y_pred)\n",
    "    #print(auc(false_positive_rate, true_positive_rate))\n",
    "    y_pred_prob=clf1.predict_proba(x_test)\n",
    "    y_prob = [p[1] for p in y_pred_prob]\n",
    "    #print( roc_auc_score(y_test, y_prob))\n",
    "    result=clf1.predict(test)\n",
    "    unique, counts = np.unique(result, return_counts=True)\n",
    "    print (np.asarray((unique, counts)).T)\n",
    "    falsepos.append(confusion_matrix(y_test,y_pred)[1][0])\n",
    "    aucscore.append(auc(false_positive_rate, true_positive_rate))\n",
    "    rocaucscore.append(roc_auc_score(y_test, y_prob))\n",
    "    test1counts.append((np.asarray((unique, counts)).T)[1][1])\n",
    "    predictions=np.asarray([testid,result])\n",
    "    predictions=predictions.T\n",
    "    df=pd.DataFrame(predictions,columns=['Col1','Col2'])\n",
    "    df.to_csv(\"/home/vinay/Downloads/HDFC_ML/DataSet/Predictionsfullsetmaxdepthset2\"+str(val)+\".csv\",index=False)"
   ]
  },
  {
   "cell_type": "code",
   "execution_count": 302,
   "metadata": {},
   "outputs": [
    {
     "data": {
      "image/png": "[encoded data removed]",
      "text/plain": [
       "<Figure size 432x288 with 4 Axes>"
      ]
     },
     "metadata": {
      "needs_background": "light"
     },
     "output_type": "display_data"
    }
   ],
   "source": [
    "fig, ax = plt.subplots(nrows=2, ncols=2)\n",
    "plotvalues=[falsepos,aucscore,rocaucscore,test1counts]\n",
    "i=0\n",
    "for row in ax:\n",
    "    for col in row:\n",
    "        col.plot(maxdepth,plotvalues[i])\n",
    "        i+=1\n",
    "plt.show()"
   ]
  },
  {
   "cell_type": "code",
   "execution_count": null,
   "metadata": {},
   "outputs": [],
   "source": []
  }
 ],
 "metadata": {
  "kernelspec": {
   "display_name": "Python 3",
   "language": "python",
   "name": "python3"
  },
  "language_info": {
   "codemirror_mode": {
    "name": "ipython",
    "version": 3
   },
   "file_extension": ".py",
   "mimetype": "text/x-python",
   "name": "python",
   "nbconvert_exporter": "python",
   "pygments_lexer": "ipython3",
   "version": "3.7.3"
  }
 },
 "nbformat": 4,
 "nbformat_minor": 2
}
