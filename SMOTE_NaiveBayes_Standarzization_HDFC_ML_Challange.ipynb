{
 "cells": [
  {
   "cell_type": "code",
   "execution_count": 28,
   "metadata": {},
   "outputs": [],
   "source": [
    "from imblearn.over_sampling import SMOTE\n",
    "from sklearn.utils import resample\n",
    "import numpy as np\n",
    "import pandas as pd\n",
    "import matplotlib.pyplot as plt\n",
    "from sklearn.ensemble import RandomForestClassifier\n",
    "from sklearn.metrics import roc_auc_score\n",
    "from sklearn.model_selection import train_test_split\n",
    "from sklearn.metrics import accuracy_score\n",
    "from sklearn.metrics import precision_recall_fscore_support\n",
    "from sklearn.metrics import classification_report\n",
    "from sklearn.metrics import confusion_matrix\n",
    "from sklearn.model_selection import GridSearchCV\n",
    "from sklearn.model_selection import RandomizedSearchCV\n",
    "from sklearn.svm import SVC\n",
    "from sklearn.metrics import roc_curve, auc\n",
    "%matplotlib inline\n",
    "from sklearn.linear_model import LogisticRegression\n",
    "from sklearn.metrics import  precision_recall_curve,  roc_auc_score, roc_curve, recall_score\n",
    "from sklearn.naive_bayes import GaussianNB"
   ]
  },
  {
   "cell_type": "code",
   "execution_count": 12,
   "metadata": {},
   "outputs": [
    {
     "name": "stderr",
     "output_type": "stream",
     "text": [
      "/home/vinay/anaconda3/envs/tensor/lib/python3.7/site-packages/IPython/core/interactiveshell.py:3058: DtypeWarning: Columns (746,835) have mixed types. Specify dtype option on import or set low_memory=False.\n",
      "  interactivity=interactivity, compiler=compiler, result=result)\n",
      "/home/vinay/anaconda3/envs/tensor/lib/python3.7/site-packages/IPython/core/interactiveshell.py:3058: DtypeWarning: Columns (700,731,740,752,761,789,811,820,829,841,850) have mixed types. Specify dtype option on import or set low_memory=False.\n",
      "  interactivity=interactivity, compiler=compiler, result=result)\n"
     ]
    }
   ],
   "source": [
    "train=pd.read_csv('/home/vinay/Downloads/HDFC_ML/DataSet/Train.csv')\n",
    "test=pd.read_csv('/home/vinay/Downloads/HDFC_ML/DataSet/Test.csv')"
   ]
  },
  {
   "cell_type": "code",
   "execution_count": 13,
   "metadata": {},
   "outputs": [],
   "source": [
    "trainobjects = train.select_dtypes(include=[object])\n",
    "testobjects = test.select_dtypes(include=[object])\n",
    "rcolumns=trainobjects+testobjects\n",
    "#y=train['Col2']\n",
    "train=train.drop(columns=rcolumns.columns)\n",
    "#x=train\n",
    "train.fillna(0, inplace=True)"
   ]
  },
  {
   "cell_type": "code",
   "execution_count": 14,
   "metadata": {},
   "outputs": [],
   "source": [
    "testid=test['Col1']\n",
    "test=test.drop(columns=rcolumns.columns)\n",
    "test.fillna(0, inplace=True)"
   ]
  },
  {
   "cell_type": "code",
   "execution_count": 15,
   "metadata": {},
   "outputs": [],
   "source": [
    "y=train['Col2']\n",
    "train.drop('Col2', axis=1, inplace=True)\n",
    "x=train"
   ]
  },
  {
   "cell_type": "code",
   "execution_count": 17,
   "metadata": {},
   "outputs": [
    {
     "name": "stdout",
     "output_type": "stream",
     "text": [
      "0    15760\n",
      "1     1761\n",
      "Name: Col2, dtype: int64\n"
     ]
    },
    {
     "data": {
      "image/png": "[encoded data removed]",
      "text/plain": [
       "<Figure size 432x288 with 1 Axes>"
      ]
     },
     "metadata": {
      "needs_background": "light"
     },
     "output_type": "display_data"
    }
   ],
   "source": [
    "pd.value_counts(y).plot.bar()\n",
    "plt.title('Fraud class histogram')\n",
    "plt.xlabel('Class')\n",
    "plt.ylabel('Frequency')\n",
    "print(y.value_counts())"
   ]
  },
  {
   "cell_type": "code",
   "execution_count": 18,
   "metadata": {},
   "outputs": [],
   "source": [
    "x_train, x_test, y_train, y_test = train_test_split(x, y, test_size=0.25,stratify=y) # 70% training and 30% test"
   ]
  },
  {
   "cell_type": "code",
   "execution_count": 21,
   "metadata": {},
   "outputs": [
    {
     "name": "stdout",
     "output_type": "stream",
     "text": [
      "Number transactions X_train dataset:  (13140, 2380)\n",
      "Number transactions y_train dataset:  (13140,)\n",
      "Number transactions X_test dataset:  (4381, 2380)\n",
      "Number transactions y_test dataset:  (4381,)\n",
      "Before OverSampling, counts of label '1': 1321\n",
      "Before OverSampling, counts of label '0': 11819 \n",
      "\n",
      "After OverSampling, the shape of train_X: (23638, 2380)\n",
      "After OverSampling, the shape of train_y: (23638,) \n",
      "\n",
      "After OverSampling, counts of label '1': 11819\n",
      "After OverSampling, counts of label '0': 11819\n"
     ]
    }
   ],
   "source": [
    "print(\"Number transactions X_train dataset: \", x_train.shape)\n",
    "print(\"Number transactions y_train dataset: \", y_train.shape)\n",
    "print(\"Number transactions X_test dataset: \", x_test.shape)\n",
    "print(\"Number transactions y_test dataset: \", y_test.shape)\n",
    "print(\"Before OverSampling, counts of label '1': {}\".format(sum(y_train==1)))\n",
    "print(\"Before OverSampling, counts of label '0': {} \\n\".format(sum(y_train==0)))\n",
    "\n",
    "sm = SMOTE(random_state=2)\n",
    "x_train_res, y_train_res = sm.fit_sample(x_train, y_train)\n",
    "\n",
    "print('After OverSampling, the shape of train_X: {}'.format(x_train_res.shape))\n",
    "print('After OverSampling, the shape of train_y: {} \\n'.format(y_train_res.shape))\n",
    "\n",
    "print(\"After OverSampling, counts of label '1': {}\".format(sum(y_train_res==1)))\n",
    "print(\"After OverSampling, counts of label '0': {}\".format(sum(y_train_res==0)))"
   ]
  },
  {
   "cell_type": "code",
   "execution_count": 73,
   "metadata": {},
   "outputs": [
    {
     "name": "stdout",
     "output_type": "stream",
     "text": [
      "[0.89949204 0.10050796]\n",
      "[15760.  1761.]\n"
     ]
    }
   ],
   "source": [
    "#parameters = {\n",
    " #   'C': np.linspace(1, 10, 10),'penalty':['l1','l2']\n",
    "     #        }\n",
    "#lr = LogisticRegression(n_jobs=-1)\n",
    "#clf = RandomizedSearchCV(lr, parameters, cv=3, verbose=10, n_jobs=-1,n_iter=5)\n",
    "clf = GaussianNB()\n",
    "#priors=[0.95,0.05]\n",
    "clf.fit(x, y)\n",
    "print(clf.class_prior_)\n",
    "print(clf.class_count_)"
   ]
  },
  {
   "cell_type": "code",
   "execution_count": 74,
   "metadata": {},
   "outputs": [],
   "source": [
    "y_pred=clf.predict(x_test)"
   ]
  },
  {
   "cell_type": "code",
   "execution_count": 75,
   "metadata": {},
   "outputs": [
    {
     "name": "stdout",
     "output_type": "stream",
     "text": [
      "Accuracy: 0.21433462679753482\n",
      "precision_recall_fscore_support: (0.5180615783529985, 0.5229291135152592, 0.21354293141071373, None)\n",
      "              precision    recall  f1-score   support\n",
      "\n",
      "           0       0.93      0.14      0.24      3941\n",
      "           1       0.11      0.91      0.19       440\n",
      "\n",
      "    accuracy                           0.21      4381\n",
      "   macro avg       0.52      0.52      0.21      4381\n",
      "weighted avg       0.85      0.21      0.23      4381\n",
      "\n",
      "[[ 539 3402]\n",
      " [  40  400]]\n",
      "auc   : 0.5229291135152592\n",
      "roc_auc_score  : 0.6029220779220779\n"
     ]
    }
   ],
   "source": [
    "print(\"Accuracy:\",accuracy_score(y_test, y_pred))\n",
    "print(\"precision_recall_fscore_support:\",precision_recall_fscore_support(y_test,y_pred,average='macro'))\n",
    "print(classification_report(y_test,y_pred))\n",
    "print(confusion_matrix(y_test,y_pred))\n",
    "false_positive_rate, true_positive_rate, thresholds = roc_curve(y_test, y_pred)\n",
    "print(\"auc   :\",auc(false_positive_rate, true_positive_rate))\n",
    "y_pred_prob=clf.predict_proba(x_test)\n",
    "y_prob = [p[1] for p in y_pred_prob]\n",
    "print( \"roc_auc_score  :\",roc_auc_score(y_test, y_prob))"
   ]
  },
  {
   "cell_type": "code",
   "execution_count": 76,
   "metadata": {},
   "outputs": [
    {
     "name": "stdout",
     "output_type": "stream",
     "text": [
      "[[    0  2758]\n",
      " [    1 17684]]\n"
     ]
    }
   ],
   "source": [
    "result=clf.predict(test)\n",
    "unique, counts = np.unique(result, return_counts=True)\n",
    "print (np.asarray((unique, counts)).T)"
   ]
  },
  {
   "cell_type": "code",
   "execution_count": null,
   "metadata": {},
   "outputs": [],
   "source": [
    "predictions=np.asarray([testid,result])\n",
    "predictions=predictions.T\n",
    "df=pd.DataFrame(predictions,columns=['Col1','Col2'])\n",
    "df.to_csv(\"/home/vinay/Downloads/HDFC_ML/DataSet/PredictionstrainGNB1.csv\",index=False)"
   ]
  }
 ],
 "metadata": {
  "kernelspec": {
   "display_name": "Python 3",
   "language": "python",
   "name": "python3"
  },
  "language_info": {
   "codemirror_mode": {
    "name": "ipython",
    "version": 3
   },
   "file_extension": ".py",
   "mimetype": "text/x-python",
   "name": "python",
   "nbconvert_exporter": "python",
   "pygments_lexer": "ipython3",
   "version": "3.7.3"
  }
 },
 "nbformat": 4,
 "nbformat_minor": 2
}
